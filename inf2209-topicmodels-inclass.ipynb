{
 "cells": [
  {
   "cell_type": "code",
   "execution_count": 1,
   "id": "a4300d5a",
   "metadata": {},
   "outputs": [],
   "source": [
    "import pandas as pd\n",
    "import os\n",
    "\n",
    "papers = pd.read_csv(\"data/NEURIPS Papers/papers.csv\")"
   ]
  },
  {
   "cell_type": "code",
   "execution_count": 2,
   "id": "e2e304c3",
   "metadata": {},
   "outputs": [
    {
     "data": {
      "text/html": [
       "<div>\n",
       "<style scoped>\n",
       "    .dataframe tbody tr th:only-of-type {\n",
       "        vertical-align: middle;\n",
       "    }\n",
       "\n",
       "    .dataframe tbody tr th {\n",
       "        vertical-align: top;\n",
       "    }\n",
       "\n",
       "    .dataframe thead th {\n",
       "        text-align: right;\n",
       "    }\n",
       "</style>\n",
       "<table border=\"1\" class=\"dataframe\">\n",
       "  <thead>\n",
       "    <tr style=\"text-align: right;\">\n",
       "      <th></th>\n",
       "      <th>id</th>\n",
       "      <th>year</th>\n",
       "      <th>title</th>\n",
       "      <th>event_type</th>\n",
       "      <th>pdf_name</th>\n",
       "      <th>abstract</th>\n",
       "      <th>paper_text</th>\n",
       "    </tr>\n",
       "  </thead>\n",
       "  <tbody>\n",
       "    <tr>\n",
       "      <th>0</th>\n",
       "      <td>1</td>\n",
       "      <td>1987</td>\n",
       "      <td>Self-Organization of Associative Database and ...</td>\n",
       "      <td>NaN</td>\n",
       "      <td>1-self-organization-of-associative-database-an...</td>\n",
       "      <td>Abstract Missing</td>\n",
       "      <td>767\\n\\nSELF-ORGANIZATION OF ASSOCIATIVE DATABA...</td>\n",
       "    </tr>\n",
       "    <tr>\n",
       "      <th>1</th>\n",
       "      <td>10</td>\n",
       "      <td>1987</td>\n",
       "      <td>A Mean Field Theory of Layer IV of Visual Cort...</td>\n",
       "      <td>NaN</td>\n",
       "      <td>10-a-mean-field-theory-of-layer-iv-of-visual-c...</td>\n",
       "      <td>Abstract Missing</td>\n",
       "      <td>683\\n\\nA MEAN FIELD THEORY OF LAYER IV OF VISU...</td>\n",
       "    </tr>\n",
       "    <tr>\n",
       "      <th>2</th>\n",
       "      <td>100</td>\n",
       "      <td>1988</td>\n",
       "      <td>Storing Covariance by the Associative Long-Ter...</td>\n",
       "      <td>NaN</td>\n",
       "      <td>100-storing-covariance-by-the-associative-long...</td>\n",
       "      <td>Abstract Missing</td>\n",
       "      <td>394\\n\\nSTORING COVARIANCE BY THE ASSOCIATIVE\\n...</td>\n",
       "    </tr>\n",
       "    <tr>\n",
       "      <th>3</th>\n",
       "      <td>1000</td>\n",
       "      <td>1994</td>\n",
       "      <td>Bayesian Query Construction for Neural Network...</td>\n",
       "      <td>NaN</td>\n",
       "      <td>1000-bayesian-query-construction-for-neural-ne...</td>\n",
       "      <td>Abstract Missing</td>\n",
       "      <td>Bayesian Query Construction for Neural\\nNetwor...</td>\n",
       "    </tr>\n",
       "    <tr>\n",
       "      <th>4</th>\n",
       "      <td>1001</td>\n",
       "      <td>1994</td>\n",
       "      <td>Neural Network Ensembles, Cross Validation, an...</td>\n",
       "      <td>NaN</td>\n",
       "      <td>1001-neural-network-ensembles-cross-validation...</td>\n",
       "      <td>Abstract Missing</td>\n",
       "      <td>Neural Network Ensembles, Cross\\nValidation, a...</td>\n",
       "    </tr>\n",
       "  </tbody>\n",
       "</table>\n",
       "</div>"
      ],
      "text/plain": [
       "     id  year                                              title event_type  \\\n",
       "0     1  1987  Self-Organization of Associative Database and ...        NaN   \n",
       "1    10  1987  A Mean Field Theory of Layer IV of Visual Cort...        NaN   \n",
       "2   100  1988  Storing Covariance by the Associative Long-Ter...        NaN   \n",
       "3  1000  1994  Bayesian Query Construction for Neural Network...        NaN   \n",
       "4  1001  1994  Neural Network Ensembles, Cross Validation, an...        NaN   \n",
       "\n",
       "                                            pdf_name          abstract  \\\n",
       "0  1-self-organization-of-associative-database-an...  Abstract Missing   \n",
       "1  10-a-mean-field-theory-of-layer-iv-of-visual-c...  Abstract Missing   \n",
       "2  100-storing-covariance-by-the-associative-long...  Abstract Missing   \n",
       "3  1000-bayesian-query-construction-for-neural-ne...  Abstract Missing   \n",
       "4  1001-neural-network-ensembles-cross-validation...  Abstract Missing   \n",
       "\n",
       "                                          paper_text  \n",
       "0  767\\n\\nSELF-ORGANIZATION OF ASSOCIATIVE DATABA...  \n",
       "1  683\\n\\nA MEAN FIELD THEORY OF LAYER IV OF VISU...  \n",
       "2  394\\n\\nSTORING COVARIANCE BY THE ASSOCIATIVE\\n...  \n",
       "3  Bayesian Query Construction for Neural\\nNetwor...  \n",
       "4  Neural Network Ensembles, Cross\\nValidation, a...  "
      ]
     },
     "execution_count": 2,
     "metadata": {},
     "output_type": "execute_result"
    }
   ],
   "source": [
    "papers.head()"
   ]
  },
  {
   "cell_type": "code",
   "execution_count": 3,
   "id": "038a20e3",
   "metadata": {},
   "outputs": [],
   "source": [
    "papers = papers.drop(columns=['id','event_type','pdf_name'], axis=1).sample(100)"
   ]
  },
  {
   "cell_type": "code",
   "execution_count": 4,
   "id": "16772a3b",
   "metadata": {},
   "outputs": [
    {
     "data": {
      "text/html": [
       "<div>\n",
       "<style scoped>\n",
       "    .dataframe tbody tr th:only-of-type {\n",
       "        vertical-align: middle;\n",
       "    }\n",
       "\n",
       "    .dataframe tbody tr th {\n",
       "        vertical-align: top;\n",
       "    }\n",
       "\n",
       "    .dataframe thead th {\n",
       "        text-align: right;\n",
       "    }\n",
       "</style>\n",
       "<table border=\"1\" class=\"dataframe\">\n",
       "  <thead>\n",
       "    <tr style=\"text-align: right;\">\n",
       "      <th></th>\n",
       "      <th>year</th>\n",
       "      <th>title</th>\n",
       "      <th>abstract</th>\n",
       "      <th>paper_text</th>\n",
       "    </tr>\n",
       "  </thead>\n",
       "  <tbody>\n",
       "    <tr>\n",
       "      <th>3165</th>\n",
       "      <td>2009</td>\n",
       "      <td>Slow, Decorrelated Features for Pretraining Co...</td>\n",
       "      <td>We introduce a new type of neural network acti...</td>\n",
       "      <td>Slow, Decorrelated Features for\\nPretraining C...</td>\n",
       "    </tr>\n",
       "    <tr>\n",
       "      <th>5981</th>\n",
       "      <td>2016</td>\n",
       "      <td>A Non-convex One-Pass Framework for Generalize...</td>\n",
       "      <td>We develop an efficient alternating framework ...</td>\n",
       "      <td>A Non-convex One-Pass Framework for Generalize...</td>\n",
       "    </tr>\n",
       "    <tr>\n",
       "      <th>3601</th>\n",
       "      <td>2011</td>\n",
       "      <td>A More Powerful Two-Sample Test in High Dimens...</td>\n",
       "      <td>We consider the hypothesis testing problem of ...</td>\n",
       "      <td>A More Powerful Two-Sample Test in High\\nDimen...</td>\n",
       "    </tr>\n",
       "    <tr>\n",
       "      <th>6132</th>\n",
       "      <td>2016</td>\n",
       "      <td>Reward Augmented Maximum Likelihood for Neural...</td>\n",
       "      <td>A key problem in structured output prediction ...</td>\n",
       "      <td>Reward Augmented Maximum Likelihood\\nfor Neura...</td>\n",
       "    </tr>\n",
       "    <tr>\n",
       "      <th>6299</th>\n",
       "      <td>1993</td>\n",
       "      <td>Tonal Music as a Componential Code: Learning T...</td>\n",
       "      <td>Abstract Missing</td>\n",
       "      <td>Tonal Music as a Componential Code:\\nLearning ...</td>\n",
       "    </tr>\n",
       "  </tbody>\n",
       "</table>\n",
       "</div>"
      ],
      "text/plain": [
       "      year                                              title  \\\n",
       "3165  2009  Slow, Decorrelated Features for Pretraining Co...   \n",
       "5981  2016  A Non-convex One-Pass Framework for Generalize...   \n",
       "3601  2011  A More Powerful Two-Sample Test in High Dimens...   \n",
       "6132  2016  Reward Augmented Maximum Likelihood for Neural...   \n",
       "6299  1993  Tonal Music as a Componential Code: Learning T...   \n",
       "\n",
       "                                               abstract  \\\n",
       "3165  We introduce a new type of neural network acti...   \n",
       "5981  We develop an efficient alternating framework ...   \n",
       "3601  We consider the hypothesis testing problem of ...   \n",
       "6132  A key problem in structured output prediction ...   \n",
       "6299                                   Abstract Missing   \n",
       "\n",
       "                                             paper_text  \n",
       "3165  Slow, Decorrelated Features for\\nPretraining C...  \n",
       "5981  A Non-convex One-Pass Framework for Generalize...  \n",
       "3601  A More Powerful Two-Sample Test in High\\nDimen...  \n",
       "6132  Reward Augmented Maximum Likelihood\\nfor Neura...  \n",
       "6299  Tonal Music as a Componential Code:\\nLearning ...  "
      ]
     },
     "execution_count": 4,
     "metadata": {},
     "output_type": "execute_result"
    }
   ],
   "source": [
    "papers.head()"
   ]
  },
  {
   "cell_type": "code",
   "execution_count": 5,
   "id": "0fbcb575",
   "metadata": {},
   "outputs": [
    {
     "data": {
      "text/plain": [
       "3165    slow decorrelated features for\\npretraining co...\n",
       "5981    a non-convex one-pass framework for generalize...\n",
       "3601    a more powerful two-sample test in high\\ndimen...\n",
       "6132    reward augmented maximum likelihood\\nfor neura...\n",
       "6299    tonal music as a componential code:\\nlearning ...\n",
       "Name: paper_text_processed, dtype: object"
      ]
     },
     "execution_count": 5,
     "metadata": {},
     "output_type": "execute_result"
    }
   ],
   "source": [
    "import re\n",
    "\n",
    "papers['paper_text_processed'] = \\\n",
    "papers['paper_text'].map(lambda x: re.sub('[,\\.!?]','',x))\n",
    "papers['paper_text_processed'] = \\\n",
    "papers['paper_text_processed'].map(lambda x: x.lower())\n",
    "papers['paper_text_processed'].head()"
   ]
  },
  {
   "cell_type": "code",
   "execution_count": 6,
   "id": "f7014cc2",
   "metadata": {},
   "outputs": [
    {
     "name": "stderr",
     "output_type": "stream",
     "text": [
      "[nltk_data] Downloading package stopwords to\n",
      "[nltk_data]     /Users/shionguha/nltk_data...\n",
      "[nltk_data]   Unzipping corpora/stopwords.zip.\n"
     ]
    }
   ],
   "source": [
    "import gensim\n",
    "from gensim.utils import simple_preprocess\n",
    "import nltk\n",
    "nltk.download('stopwords')\n",
    "from nltk.corpus import stopwords"
   ]
  },
  {
   "cell_type": "code",
   "execution_count": 7,
   "id": "5e683feb",
   "metadata": {},
   "outputs": [],
   "source": [
    "stop_words = stopwords.words('english')\n",
    "stop_words.extend(['from', 'subject', 're', 'edu', 'use'])"
   ]
  },
  {
   "cell_type": "code",
   "execution_count": 9,
   "id": "7a797bc1",
   "metadata": {},
   "outputs": [],
   "source": [
    "def sent_to_words(sentences):\n",
    "    for sentence in sentences:\n",
    "        yield(gensim.utils.simple_preprocess(str(sentence), deacc=True))"
   ]
  },
  {
   "cell_type": "code",
   "execution_count": 13,
   "id": "f45b76a9",
   "metadata": {},
   "outputs": [],
   "source": [
    "def remove_stopwords(texts):\n",
    "    return [[word for word in simple_preprocess(str(doc))\n",
    "            if word not in stop_words] for doc in texts]"
   ]
  },
  {
   "cell_type": "code",
   "execution_count": 14,
   "id": "2ebd7b01",
   "metadata": {},
   "outputs": [],
   "source": [
    "data = papers.paper_text_processed.values.tolist()\n",
    "data_words = list(sent_to_words(data))"
   ]
  },
  {
   "cell_type": "code",
   "execution_count": 15,
   "id": "334562f8",
   "metadata": {},
   "outputs": [
    {
     "name": "stdout",
     "output_type": "stream",
     "text": [
      "['slow', 'decorrelated', 'features', 'pretraining', 'complex', 'cell', 'like', 'networks', 'yoshua', 'bengio', 'university', 'montreal', 'yoshuabengio', 'umontrealca', 'james', 'bergstra', 'university', 'montreal', 'jamesbergstra', 'umontrealca', 'abstract', 'introduce', 'new', 'type', 'neural', 'network', 'activation', 'function', 'based', 'recent']\n"
     ]
    }
   ],
   "source": [
    "data_words = remove_stopwords(data_words)\n",
    "print(data_words[:1][0][:30])"
   ]
  },
  {
   "cell_type": "code",
   "execution_count": 16,
   "id": "6fd1f3b3",
   "metadata": {},
   "outputs": [
    {
     "name": "stdout",
     "output_type": "stream",
     "text": [
      "[(0, 3), (1, 1), (2, 2), (3, 1), (4, 1), (5, 3), (6, 1), (7, 1), (8, 6), (9, 4), (10, 1), (11, 4), (12, 3), (13, 17), (14, 2), (15, 1), (16, 2), (17, 1), (18, 1), (19, 2), (20, 1), (21, 1), (22, 1), (23, 2), (24, 4), (25, 3), (26, 1), (27, 1), (28, 21), (29, 14)]\n"
     ]
    }
   ],
   "source": [
    "import gensim.corpora as corpora\n",
    "\n",
    "id2word = corpora.Dictionary(data_words)\n",
    "\n",
    "texts = data_words\n",
    "\n",
    "corpus = [id2word.doc2bow(text) for text in texts]\n",
    "\n",
    "print(corpus[:1][0][:30])"
   ]
  },
  {
   "cell_type": "code",
   "execution_count": 18,
   "id": "278bca27",
   "metadata": {},
   "outputs": [
    {
     "name": "stdout",
     "output_type": "stream",
     "text": [
      "[(0,\n",
      "  '0.006*\"data\" + 0.005*\"model\" + 0.004*\"learning\" + 0.004*\"set\" + '\n",
      "  '0.004*\"figure\" + 0.004*\"one\" + 0.003*\"log\" + 0.003*\"algorithm\" + '\n",
      "  '0.003*\"two\" + 0.003*\"function\"'),\n",
      " (1,\n",
      "  '0.007*\"model\" + 0.006*\"learning\" + 0.005*\"data\" + 0.004*\"one\" + '\n",
      "  '0.004*\"algorithm\" + 0.004*\"function\" + 0.003*\"using\" + 0.003*\"figure\" + '\n",
      "  '0.003*\"set\" + 0.003*\"training\"'),\n",
      " (2,\n",
      "  '0.006*\"model\" + 0.005*\"data\" + 0.005*\"learning\" + 0.005*\"set\" + '\n",
      "  '0.005*\"algorithm\" + 0.005*\"function\" + 0.004*\"log\" + 0.004*\"one\" + '\n",
      "  '0.004*\"using\" + 0.003*\"number\"'),\n",
      " (3,\n",
      "  '0.006*\"learning\" + 0.005*\"model\" + 0.004*\"one\" + 0.004*\"data\" + 0.004*\"set\" '\n",
      "  '+ 0.004*\"algorithm\" + 0.004*\"using\" + 0.003*\"two\" + 0.003*\"also\" + '\n",
      "  '0.003*\"training\"'),\n",
      " (4,\n",
      "  '0.006*\"model\" + 0.005*\"learning\" + 0.005*\"data\" + 0.004*\"function\" + '\n",
      "  '0.004*\"two\" + 0.003*\"algorithm\" + 0.003*\"set\" + 0.003*\"problem\" + '\n",
      "  '0.003*\"information\" + 0.003*\"training\"')]\n"
     ]
    }
   ],
   "source": [
    "from pprint import pprint\n",
    "\n",
    "num_topics = 5\n",
    "\n",
    "lda_model = gensim.models.LdaMulticore(corpus=corpus,id2word=id2word,num_topics=num_topics)\n",
    "\n",
    "pprint(lda_model.print_topics())\n",
    "doc_lda = lda_model[corpus]"
   ]
  },
  {
   "cell_type": "code",
   "execution_count": null,
   "id": "3415c954",
   "metadata": {},
   "outputs": [],
   "source": []
  }
 ],
 "metadata": {
  "kernelspec": {
   "display_name": "Python 3 (ipykernel)",
   "language": "python",
   "name": "python3"
  },
  "language_info": {
   "codemirror_mode": {
    "name": "ipython",
    "version": 3
   },
   "file_extension": ".py",
   "mimetype": "text/x-python",
   "name": "python",
   "nbconvert_exporter": "python",
   "pygments_lexer": "ipython3",
   "version": "3.9.7"
  }
 },
 "nbformat": 4,
 "nbformat_minor": 5
}
