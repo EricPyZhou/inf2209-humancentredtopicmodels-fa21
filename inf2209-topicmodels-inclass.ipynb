{
 "cells": [
  {
   "cell_type": "code",
   "execution_count": 1,
   "id": "a4300d5a",
   "metadata": {},
   "outputs": [],
   "source": [
    "import pandas as pd\n",
    "import os\n",
    "\n",
    "papers = pd.read_csv(\"data/NEURIPS Papers/papers.csv\")"
   ]
  },
  {
   "cell_type": "code",
   "execution_count": 2,
   "id": "e2e304c3",
   "metadata": {},
   "outputs": [
    {
     "data": {
      "text/html": [
       "<div>\n",
       "<style scoped>\n",
       "    .dataframe tbody tr th:only-of-type {\n",
       "        vertical-align: middle;\n",
       "    }\n",
       "\n",
       "    .dataframe tbody tr th {\n",
       "        vertical-align: top;\n",
       "    }\n",
       "\n",
       "    .dataframe thead th {\n",
       "        text-align: right;\n",
       "    }\n",
       "</style>\n",
       "<table border=\"1\" class=\"dataframe\">\n",
       "  <thead>\n",
       "    <tr style=\"text-align: right;\">\n",
       "      <th></th>\n",
       "      <th>id</th>\n",
       "      <th>year</th>\n",
       "      <th>title</th>\n",
       "      <th>event_type</th>\n",
       "      <th>pdf_name</th>\n",
       "      <th>abstract</th>\n",
       "      <th>paper_text</th>\n",
       "    </tr>\n",
       "  </thead>\n",
       "  <tbody>\n",
       "    <tr>\n",
       "      <th>0</th>\n",
       "      <td>1</td>\n",
       "      <td>1987</td>\n",
       "      <td>Self-Organization of Associative Database and ...</td>\n",
       "      <td>NaN</td>\n",
       "      <td>1-self-organization-of-associative-database-an...</td>\n",
       "      <td>Abstract Missing</td>\n",
       "      <td>767\\n\\nSELF-ORGANIZATION OF ASSOCIATIVE DATABA...</td>\n",
       "    </tr>\n",
       "    <tr>\n",
       "      <th>1</th>\n",
       "      <td>10</td>\n",
       "      <td>1987</td>\n",
       "      <td>A Mean Field Theory of Layer IV of Visual Cort...</td>\n",
       "      <td>NaN</td>\n",
       "      <td>10-a-mean-field-theory-of-layer-iv-of-visual-c...</td>\n",
       "      <td>Abstract Missing</td>\n",
       "      <td>683\\n\\nA MEAN FIELD THEORY OF LAYER IV OF VISU...</td>\n",
       "    </tr>\n",
       "    <tr>\n",
       "      <th>2</th>\n",
       "      <td>100</td>\n",
       "      <td>1988</td>\n",
       "      <td>Storing Covariance by the Associative Long-Ter...</td>\n",
       "      <td>NaN</td>\n",
       "      <td>100-storing-covariance-by-the-associative-long...</td>\n",
       "      <td>Abstract Missing</td>\n",
       "      <td>394\\n\\nSTORING COVARIANCE BY THE ASSOCIATIVE\\n...</td>\n",
       "    </tr>\n",
       "    <tr>\n",
       "      <th>3</th>\n",
       "      <td>1000</td>\n",
       "      <td>1994</td>\n",
       "      <td>Bayesian Query Construction for Neural Network...</td>\n",
       "      <td>NaN</td>\n",
       "      <td>1000-bayesian-query-construction-for-neural-ne...</td>\n",
       "      <td>Abstract Missing</td>\n",
       "      <td>Bayesian Query Construction for Neural\\nNetwor...</td>\n",
       "    </tr>\n",
       "    <tr>\n",
       "      <th>4</th>\n",
       "      <td>1001</td>\n",
       "      <td>1994</td>\n",
       "      <td>Neural Network Ensembles, Cross Validation, an...</td>\n",
       "      <td>NaN</td>\n",
       "      <td>1001-neural-network-ensembles-cross-validation...</td>\n",
       "      <td>Abstract Missing</td>\n",
       "      <td>Neural Network Ensembles, Cross\\nValidation, a...</td>\n",
       "    </tr>\n",
       "  </tbody>\n",
       "</table>\n",
       "</div>"
      ],
      "text/plain": [
       "     id  year                                              title event_type  \\\n",
       "0     1  1987  Self-Organization of Associative Database and ...        NaN   \n",
       "1    10  1987  A Mean Field Theory of Layer IV of Visual Cort...        NaN   \n",
       "2   100  1988  Storing Covariance by the Associative Long-Ter...        NaN   \n",
       "3  1000  1994  Bayesian Query Construction for Neural Network...        NaN   \n",
       "4  1001  1994  Neural Network Ensembles, Cross Validation, an...        NaN   \n",
       "\n",
       "                                            pdf_name          abstract  \\\n",
       "0  1-self-organization-of-associative-database-an...  Abstract Missing   \n",
       "1  10-a-mean-field-theory-of-layer-iv-of-visual-c...  Abstract Missing   \n",
       "2  100-storing-covariance-by-the-associative-long...  Abstract Missing   \n",
       "3  1000-bayesian-query-construction-for-neural-ne...  Abstract Missing   \n",
       "4  1001-neural-network-ensembles-cross-validation...  Abstract Missing   \n",
       "\n",
       "                                          paper_text  \n",
       "0  767\\n\\nSELF-ORGANIZATION OF ASSOCIATIVE DATABA...  \n",
       "1  683\\n\\nA MEAN FIELD THEORY OF LAYER IV OF VISU...  \n",
       "2  394\\n\\nSTORING COVARIANCE BY THE ASSOCIATIVE\\n...  \n",
       "3  Bayesian Query Construction for Neural\\nNetwor...  \n",
       "4  Neural Network Ensembles, Cross\\nValidation, a...  "
      ]
     },
     "execution_count": 2,
     "metadata": {},
     "output_type": "execute_result"
    }
   ],
   "source": [
    "papers.head()"
   ]
  },
  {
   "cell_type": "code",
   "execution_count": 3,
   "id": "038a20e3",
   "metadata": {},
   "outputs": [],
   "source": [
    "papers = papers.drop(columns=['id','event_type','pdf_name'], axis=1).sample(100)"
   ]
  },
  {
   "cell_type": "code",
   "execution_count": 4,
   "id": "16772a3b",
   "metadata": {},
   "outputs": [
    {
     "data": {
      "text/html": [
       "<div>\n",
       "<style scoped>\n",
       "    .dataframe tbody tr th:only-of-type {\n",
       "        vertical-align: middle;\n",
       "    }\n",
       "\n",
       "    .dataframe tbody tr th {\n",
       "        vertical-align: top;\n",
       "    }\n",
       "\n",
       "    .dataframe thead th {\n",
       "        text-align: right;\n",
       "    }\n",
       "</style>\n",
       "<table border=\"1\" class=\"dataframe\">\n",
       "  <thead>\n",
       "    <tr style=\"text-align: right;\">\n",
       "      <th></th>\n",
       "      <th>year</th>\n",
       "      <th>title</th>\n",
       "      <th>abstract</th>\n",
       "      <th>paper_text</th>\n",
       "    </tr>\n",
       "  </thead>\n",
       "  <tbody>\n",
       "    <tr>\n",
       "      <th>1707</th>\n",
       "      <td>2004</td>\n",
       "      <td>An Auditory Paradigm for Brain-Computer Interf...</td>\n",
       "      <td>Abstract Missing</td>\n",
       "      <td>An Auditory Paradigm for\\nBrain?Computer Inter...</td>\n",
       "    </tr>\n",
       "    <tr>\n",
       "      <th>2799</th>\n",
       "      <td>2008</td>\n",
       "      <td>Differentiable Sparse Coding</td>\n",
       "      <td>Abstract Missing</td>\n",
       "      <td>Differentiable Sparse Coding\\n\\nDavid M. Bradl...</td>\n",
       "    </tr>\n",
       "    <tr>\n",
       "      <th>1622</th>\n",
       "      <td>2003</td>\n",
       "      <td>A Functional Architecture for Motion Pattern P...</td>\n",
       "      <td>Abstract Missing</td>\n",
       "      <td>A Functional Architecture for Motion\\nPattern ...</td>\n",
       "    </tr>\n",
       "    <tr>\n",
       "      <th>5138</th>\n",
       "      <td>2015</td>\n",
       "      <td>Bidirectional Recurrent Neural Networks as Gen...</td>\n",
       "      <td>Bidirectional recurrent neural networks (RNN) ...</td>\n",
       "      <td>Bidirectional Recurrent Neural Networks as\\nGe...</td>\n",
       "    </tr>\n",
       "    <tr>\n",
       "      <th>670</th>\n",
       "      <td>1998</td>\n",
       "      <td>An Integrated Vision Sensor for the Computatio...</td>\n",
       "      <td>Abstract Missing</td>\n",
       "      <td>An Integrated Vision Sensor for the\\nComputati...</td>\n",
       "    </tr>\n",
       "  </tbody>\n",
       "</table>\n",
       "</div>"
      ],
      "text/plain": [
       "      year                                              title  \\\n",
       "1707  2004  An Auditory Paradigm for Brain-Computer Interf...   \n",
       "2799  2008                       Differentiable Sparse Coding   \n",
       "1622  2003  A Functional Architecture for Motion Pattern P...   \n",
       "5138  2015  Bidirectional Recurrent Neural Networks as Gen...   \n",
       "670   1998  An Integrated Vision Sensor for the Computatio...   \n",
       "\n",
       "                                               abstract  \\\n",
       "1707                                   Abstract Missing   \n",
       "2799                                   Abstract Missing   \n",
       "1622                                   Abstract Missing   \n",
       "5138  Bidirectional recurrent neural networks (RNN) ...   \n",
       "670                                    Abstract Missing   \n",
       "\n",
       "                                             paper_text  \n",
       "1707  An Auditory Paradigm for\\nBrain?Computer Inter...  \n",
       "2799  Differentiable Sparse Coding\\n\\nDavid M. Bradl...  \n",
       "1622  A Functional Architecture for Motion\\nPattern ...  \n",
       "5138  Bidirectional Recurrent Neural Networks as\\nGe...  \n",
       "670   An Integrated Vision Sensor for the\\nComputati...  "
      ]
     },
     "execution_count": 4,
     "metadata": {},
     "output_type": "execute_result"
    }
   ],
   "source": [
    "papers.head()"
   ]
  },
  {
   "cell_type": "code",
   "execution_count": 5,
   "id": "0fbcb575",
   "metadata": {},
   "outputs": [
    {
     "data": {
      "text/plain": [
       "1707    an auditory paradigm for\\nbraincomputer interf...\n",
       "2799    differentiable sparse coding\\n\\ndavid m bradle...\n",
       "1622    a functional architecture for motion\\npattern ...\n",
       "5138    bidirectional recurrent neural networks as\\nge...\n",
       "670     an integrated vision sensor for the\\ncomputati...\n",
       "Name: paper_text_processed, dtype: object"
      ]
     },
     "execution_count": 5,
     "metadata": {},
     "output_type": "execute_result"
    }
   ],
   "source": [
    "import re\n",
    "\n",
    "papers['paper_text_processed'] = \\\n",
    "papers['paper_text'].map(lambda x: re.sub('[,\\.!?]','',x))\n",
    "papers['paper_text_processed'] = \\\n",
    "papers['paper_text_processed'].map(lambda x: x.lower())\n",
    "papers['paper_text_processed'].head()"
   ]
  },
  {
   "cell_type": "code",
   "execution_count": 6,
   "id": "f7014cc2",
   "metadata": {},
   "outputs": [
    {
     "name": "stderr",
     "output_type": "stream",
     "text": [
      "[nltk_data] Downloading package stopwords to\n",
      "[nltk_data]     /Users/shionguha/nltk_data...\n",
      "[nltk_data]   Package stopwords is already up-to-date!\n"
     ]
    }
   ],
   "source": [
    "import gensim\n",
    "from gensim.utils import simple_preprocess\n",
    "import nltk\n",
    "nltk.download('stopwords')\n",
    "from nltk.corpus import stopwords"
   ]
  },
  {
   "cell_type": "code",
   "execution_count": 7,
   "id": "5e683feb",
   "metadata": {},
   "outputs": [],
   "source": [
    "stop_words = stopwords.words('english')\n",
    "stop_words.extend(['from', 'subject', 're', 'edu', 'use'])"
   ]
  },
  {
   "cell_type": "code",
   "execution_count": 8,
   "id": "7a797bc1",
   "metadata": {},
   "outputs": [],
   "source": [
    "def sent_to_words(sentences):\n",
    "    for sentence in sentences:\n",
    "        yield(gensim.utils.simple_preprocess(str(sentence), deacc=True))"
   ]
  },
  {
   "cell_type": "code",
   "execution_count": 9,
   "id": "f45b76a9",
   "metadata": {},
   "outputs": [],
   "source": [
    "def remove_stopwords(texts):\n",
    "    return [[word for word in simple_preprocess(str(doc))\n",
    "            if word not in stop_words] for doc in texts]"
   ]
  },
  {
   "cell_type": "code",
   "execution_count": 10,
   "id": "2ebd7b01",
   "metadata": {},
   "outputs": [],
   "source": [
    "data = papers.paper_text_processed.values.tolist()\n",
    "data_words = list(sent_to_words(data))"
   ]
  },
  {
   "cell_type": "code",
   "execution_count": 11,
   "id": "334562f8",
   "metadata": {},
   "outputs": [
    {
     "name": "stdout",
     "output_type": "stream",
     "text": [
      "['auditory', 'paradigm', 'braincomputer', 'interfaces', 'jeremy', 'hill', 'navin', 'lal', 'karin', 'bierig', 'niels', 'birbaumer', 'bernhard', 'sch', 'olkopf', 'max', 'planck', 'institute', 'biological', 'cybernetics', 'spemannstrae', 'ubingen', 'germany', 'jez', 'navin', 'bierig', 'bs', 'tuebingenmpgde', 'institute', 'medical']\n"
     ]
    }
   ],
   "source": [
    "data_words = remove_stopwords(data_words)\n",
    "print(data_words[:1][0][:30])"
   ]
  },
  {
   "cell_type": "code",
   "execution_count": 12,
   "id": "6fd1f3b3",
   "metadata": {},
   "outputs": [
    {
     "name": "stdout",
     "output_type": "stream",
     "text": [
      "[(0, 1), (1, 1), (2, 1), (3, 2), (4, 2), (5, 1), (6, 1), (7, 1), (8, 2), (9, 2), (10, 2), (11, 2), (12, 2), (13, 1), (14, 1), (15, 2), (16, 3), (17, 2), (18, 4), (19, 1), (20, 1), (21, 3), (22, 3), (23, 1), (24, 1), (25, 4), (26, 1), (27, 1), (28, 1), (29, 1)]\n"
     ]
    }
   ],
   "source": [
    "import gensim.corpora as corpora\n",
    "\n",
    "id2word = corpora.Dictionary(data_words)\n",
    "\n",
    "texts = data_words\n",
    "\n",
    "corpus = [id2word.doc2bow(text) for text in texts]\n",
    "\n",
    "print(corpus[:1][0][:30])"
   ]
  },
  {
   "cell_type": "code",
   "execution_count": 13,
   "id": "278bca27",
   "metadata": {},
   "outputs": [
    {
     "name": "stdout",
     "output_type": "stream",
     "text": [
      "[(0,\n",
      "  '0.009*\"learning\" + 0.007*\"model\" + 0.006*\"data\" + 0.005*\"algorithm\" + '\n",
      "  '0.005*\"function\" + 0.004*\"using\" + 0.004*\"set\" + 0.004*\"models\" + '\n",
      "  '0.003*\"training\" + 0.003*\"two\"'),\n",
      " (1,\n",
      "  '0.008*\"learning\" + 0.006*\"model\" + 0.005*\"data\" + 0.005*\"log\" + '\n",
      "  '0.004*\"algorithm\" + 0.004*\"function\" + 0.004*\"set\" + 0.004*\"one\" + '\n",
      "  '0.004*\"using\" + 0.004*\"time\"'),\n",
      " (2,\n",
      "  '0.007*\"data\" + 0.006*\"learning\" + 0.005*\"model\" + 0.005*\"algorithm\" + '\n",
      "  '0.004*\"one\" + 0.004*\"function\" + 0.003*\"models\" + 0.003*\"matrix\" + '\n",
      "  '0.003*\"using\" + 0.003*\"set\"'),\n",
      " (3,\n",
      "  '0.006*\"learning\" + 0.006*\"data\" + 0.005*\"model\" + 0.005*\"function\" + '\n",
      "  '0.004*\"using\" + 0.004*\"algorithm\" + 0.004*\"one\" + 0.003*\"set\" + 0.003*\"log\" '\n",
      "  '+ 0.003*\"time\"'),\n",
      " (4,\n",
      "  '0.007*\"model\" + 0.005*\"set\" + 0.005*\"learning\" + 0.005*\"using\" + '\n",
      "  '0.004*\"data\" + 0.004*\"algorithm\" + 0.004*\"one\" + 0.003*\"distribution\" + '\n",
      "  '0.003*\"time\" + 0.003*\"function\"')]\n"
     ]
    }
   ],
   "source": [
    "from pprint import pprint\n",
    "\n",
    "num_topics = 5\n",
    "\n",
    "lda_model = gensim.models.LdaMulticore(corpus=corpus,id2word=id2word,num_topics=num_topics)\n",
    "\n",
    "pprint(lda_model.print_topics())\n",
    "doc_lda = lda_model[corpus]"
   ]
  },
  {
   "cell_type": "code",
   "execution_count": null,
   "id": "3415c954",
   "metadata": {},
   "outputs": [],
   "source": []
  }
 ],
 "metadata": {
  "kernelspec": {
   "display_name": "Python 3 (ipykernel)",
   "language": "python",
   "name": "python3"
  },
  "language_info": {
   "codemirror_mode": {
    "name": "ipython",
    "version": 3
   },
   "file_extension": ".py",
   "mimetype": "text/x-python",
   "name": "python",
   "nbconvert_exporter": "python",
   "pygments_lexer": "ipython3",
   "version": "3.9.7"
  }
 },
 "nbformat": 4,
 "nbformat_minor": 5
}
